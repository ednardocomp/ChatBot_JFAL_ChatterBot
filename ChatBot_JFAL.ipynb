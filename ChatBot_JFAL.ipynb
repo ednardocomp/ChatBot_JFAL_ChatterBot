{
 "cells": [
  {
   "cell_type": "code",
   "execution_count": 1,
   "id": "284b4a3a",
   "metadata": {
    "scrolled": true
   },
   "outputs": [
    {
     "name": "stdout",
     "output_type": "stream",
     "text": [
      "✔ Download and installation successful\n",
      "You can now load the package via spacy.load('en_core_web_sm')\n"
     ]
    }
   ],
   "source": [
    "#Bibliotecas do Chatbot e do treinamento da IA que é baseada em linguagem natural\n",
    "from chatterbot import ChatBot\n",
    "from chatterbot.trainers import ListTrainer\n",
    "import json\n",
    "#Bibliotecas para utilizar o flask\n",
    "from flask import Flask, request\n",
    "\n",
    "#Bibliotecas do Chatbot baseada em linguagem natural\n",
    "from spacy.cli import download\n",
    "\n",
    "#Código de correção de erro do código en\n",
    "download(\"en_core_web_sm\")\n",
    "\n",
    "class ENGSM:\n",
    "    ISO_639_1 = 'en_core_web_sm'\n",
    "\n",
    "#cria uma instância flask baseado no nome do arquivo\n",
    "app = Flask(__name__)"
   ]
  },
  {
   "cell_type": "code",
   "execution_count": 2,
   "id": "5e14df67",
   "metadata": {},
   "outputs": [
    {
     "name": "stdout",
     "output_type": "stream",
     "text": [
      "List Trainer: [####################] 100%\n",
      " * Serving Flask app '__main__' (lazy loading)\n",
      " * Environment: production\n",
      "\u001b[31m   WARNING: This is a development server. Do not use it in a production deployment.\u001b[0m\n",
      "\u001b[2m   Use a production WSGI server instead.\u001b[0m\n",
      " * Debug mode: on\n"
     ]
    },
    {
     "name": "stderr",
     "output_type": "stream",
     "text": [
      " * Restarting with stat\n"
     ]
    },
    {
     "ename": "SystemExit",
     "evalue": "1",
     "output_type": "error",
     "traceback": [
      "An exception has occurred, use %tb to see the full traceback.\n",
      "\u001b[1;31mSystemExit\u001b[0m\u001b[1;31m:\u001b[0m 1\n"
     ]
    },
    {
     "name": "stderr",
     "output_type": "stream",
     "text": [
      "C:\\Users\\Samuel Ednardo\\.conda\\envs\\chatbot\\lib\\site-packages\\IPython\\core\\interactiveshell.py:3351: UserWarning: To exit: use 'exit', 'quit', or Ctrl-D.\n",
      "  warn(\"To exit: use 'exit', 'quit', or Ctrl-D.\", stacklevel=1)\n"
     ]
    }
   ],
   "source": [
    "#Base de treinamento do chatbot, aqui ele irá computar as perguntas e escolher uma resposta\n",
    "chatbot = ChatBot(\"Bot_JFAL\", tagger_language=ENGSM)\n",
    "conversa = [\n",
    "     #Mensagem 1\n",
    "    \"agendar\",\n",
    "     #resposta 1\n",
    "    \"Para agendar uma consulta você deve seguir os seguir o passo 01\",\n",
    "    #Mensagem 2\n",
    "    \"minhas consultas\",\n",
    "     #resposta 2\n",
    "    \"Para verificar suas consultas você deve seguir o passo 02.\",\n",
    "    #Mensagem de redundância\n",
    "    \"consultas\",\n",
    "     #resposta mensagem de redundância\n",
    "    \"Para verificar suas consultas você deve seguir o passo 02.\",\n",
    "    #Mensagem 1\n",
    "    \"cancelar agendamento\",\n",
    "     #resposta 4\n",
    "    \"Para cancelar um agendamento você deve serguir o passo 03\",\n",
    "]\n",
    "\n",
    "#Aqui será realizado o seu treinamento\n",
    "trainer = ListTrainer(chatbot)\n",
    "trainer.train(conversa)\n",
    "\n",
    "#Rota da api para responder aos usuários\n",
    "#Ela funciona via post\n",
    "@app.route('/', methods=['POST'])\n",
    "def responder():\n",
    "    #recebe um pedido e o converte para letras minusculas\n",
    "    pedido = request.form['pedido'].lower()\n",
    "    #gera uma resposta baseada no chatbot\n",
    "    resposta = chatbot.respond(pedido)\n",
    "    #a resposta será entregue em formato JSON\n",
    "    return jsonify({'resposta': resposta})\n",
    "#Com a execução do arquivo, iremos instanciar o servidor flask rest, no caso, nossa api\n",
    "app.run(debug=True)\n"
   ]
  },
  {
   "cell_type": "code",
   "execution_count": null,
   "id": "4f2d0296",
   "metadata": {},
   "outputs": [],
   "source": [
    "#Método de interação com o usuário\n",
    "print(\"Bem vindo ao Espaço Virtual Saúde. Como posso ajudar?\")\n",
    "while True:\n",
    "    mensagem = input(\"Você: \")\n",
    "    if mensagem == \"parar\":\n",
    "        break\n",
    "    resposta = chatbot.get_response(str('EVS: ') + mensagem)\n",
    "    print(resposta)"
   ]
  },
  {
   "cell_type": "code",
   "execution_count": null,
   "id": "036d9457",
   "metadata": {},
   "outputs": [],
   "source": [
    "#chatbot.storage.drop()"
   ]
  },
  {
   "cell_type": "code",
   "execution_count": null,
   "id": "07f8a442",
   "metadata": {},
   "outputs": [],
   "source": []
  }
 ],
 "metadata": {
  "kernelspec": {
   "display_name": "Python 3 (ipykernel)",
   "language": "python",
   "name": "python3"
  },
  "language_info": {
   "codemirror_mode": {
    "name": "ipython",
    "version": 3
   },
   "file_extension": ".py",
   "mimetype": "text/x-python",
   "name": "python",
   "nbconvert_exporter": "python",
   "pygments_lexer": "ipython3",
   "version": "3.6.13"
  }
 },
 "nbformat": 4,
 "nbformat_minor": 5
}
